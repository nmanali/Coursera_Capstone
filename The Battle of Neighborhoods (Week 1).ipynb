{
 "cells": [
  {
   "cell_type": "markdown",
   "metadata": {},
   "source": [
    "## Peer-graded Assignment: Capstone Project - The Battle of Neighborhoods (Week 1)"
   ]
  },
  {
   "cell_type": "markdown",
   "metadata": {},
   "source": [
    "### Introduction/Business Problem\n",
    "\n",
    "In this project we will try to find an optimal location for rentals in Seattle listed on Airbnb. We will use Data Science to find which neighborhood\n",
    "is most preferred rentals in Seattle neighborhood by the tourists."
   ]
  },
  {
   "cell_type": "markdown",
   "metadata": {},
   "source": [
    "### Data Sources\n",
    "In order to understand which neighborhoods would be best suited for rentals in Seattle,Airbnb, \n",
    "we should incorporate the following into our analysis:\n",
    "\n",
    "Based on definition of our problem, we will check for factors that will influence the decision for high number of reviews\n",
    "To support this part of the analysis, we read the dataset seattle_listings that we collected from https://goo.gl/jcHuwG \n",
    "We'll load this data into our environment, analyze and clean the data,and check the relationship between \n",
    "various categorical and numerical independent variables and dependent variable to check as to which factors \n",
    "are responsible for high number of reviews of a particular listing .\n",
    "\n",
    "Finally , we will make a comparison across the neighborhoods based on these factors to check which neighborhood\n",
    "is most preferred by the tourists.\n",
    "\n"
   ]
  },
  {
   "cell_type": "code",
   "execution_count": null,
   "metadata": {},
   "outputs": [],
   "source": []
  }
 ],
 "metadata": {
  "kernelspec": {
   "display_name": "Python 3",
   "language": "python",
   "name": "python3"
  },
  "language_info": {
   "codemirror_mode": {
    "name": "ipython",
    "version": 3
   },
   "file_extension": ".py",
   "mimetype": "text/x-python",
   "name": "python",
   "nbconvert_exporter": "python",
   "pygments_lexer": "ipython3",
   "version": "3.7.3"
  }
 },
 "nbformat": 4,
 "nbformat_minor": 2
}
